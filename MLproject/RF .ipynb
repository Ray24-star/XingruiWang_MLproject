{
 "cells": [
  {
   "cell_type": "code",
   "execution_count": 1,
   "id": "a7a1a94a",
   "metadata": {},
   "outputs": [],
   "source": [
    "#初始化\n",
    "import numpy as np\n",
    "import os\n",
    "import tarfile\n",
    "import sklearn\n",
    "import csv\n",
    "import math\n",
    "import pandas as pd\n",
    "import matplotlib.pyplot as plt\n",
    "plt.rcParams[\"font.family\"]=\"Times New Roman\"\n",
    "np.random.seed(42)\n",
    "from scipy.interpolate import splev\n",
    "import seaborn as sns\n",
    "import os"
   ]
  },
  {
   "cell_type": "code",
   "execution_count": 2,
   "id": "5eed12ac",
   "metadata": {},
   "outputs": [],
   "source": [
    "#读取数据\n",
    "database_name=\"data2\"\n",
    "# database_name=\"all\"\n",
    "\n",
    "model_name=\"RF\"\n",
    "def load_data(name):\n",
    "    location=\"./data/\"+name+\".csv\"\n",
    "    data=pd.read_csv(location,sep=\",\").iloc[:,:]\n",
    "    return data"
   ]
  },
  {
   "cell_type": "code",
   "execution_count": 3,
   "id": "a1c88164",
   "metadata": {
    "scrolled": true
   },
   "outputs": [],
   "source": [
    "data_org=load_data(database_name)\n",
    "data_x,data_y=data_org.iloc[:,:-1],data_org.iloc[:,-1]"
   ]
  },
  {
   "cell_type": "code",
   "execution_count": 4,
   "id": "a0dc71b2",
   "metadata": {},
   "outputs": [],
   "source": [
    "ratio=0.35"
   ]
  },
  {
   "cell_type": "code",
   "execution_count": 5,
   "id": "a2ae5eed",
   "metadata": {},
   "outputs": [],
   "source": [
    "#划分测试集（暂定随机抽样）\n",
    "from sklearn.model_selection import train_test_split\n",
    "from sklearn.preprocessing import StandardScaler\n",
    "x_train_full, x_test, y_train_full, y_test = train_test_split(data_x,data_y,test_size=ratio, random_state=42)\n",
    "x_train, x_valid, y_train, y_valid = train_test_split(x_train_full, y_train_full, test_size=0.15,random_state=42)"
   ]
  },
  {
   "cell_type": "code",
   "execution_count": 6,
   "id": "d96b5d4a",
   "metadata": {},
   "outputs": [
    {
     "name": "stdout",
     "output_type": "stream",
     "text": [
      "(85, 3) (55, 3) (16, 3)\n"
     ]
    }
   ],
   "source": [
    "print(x_train.shape,x_test.shape,x_valid.shape)"
   ]
  },
  {
   "cell_type": "code",
   "execution_count": 7,
   "id": "08ff1cf9",
   "metadata": {
    "scrolled": true
   },
   "outputs": [
    {
     "ename": "KeyboardInterrupt",
     "evalue": "",
     "output_type": "error",
     "traceback": [
      "\u001b[1;31m---------------------------------------------------------------------------\u001b[0m",
      "\u001b[1;31mKeyboardInterrupt\u001b[0m                         Traceback (most recent call last)",
      "\u001b[1;32m<ipython-input-7-8ebffef22998>\u001b[0m in \u001b[0;36m<module>\u001b[1;34m\u001b[0m\n\u001b[0;32m     15\u001b[0m                            scoring='neg_mean_squared_error', return_train_score=True)\n\u001b[0;32m     16\u001b[0m \u001b[1;31m#将模型赋给gridsearch\u001b[0m\u001b[1;33m\u001b[0m\u001b[1;33m\u001b[0m\u001b[1;33m\u001b[0m\u001b[0m\n\u001b[1;32m---> 17\u001b[1;33m \u001b[0mgrid_search_n\u001b[0m\u001b[1;33m.\u001b[0m\u001b[0mfit\u001b[0m\u001b[1;33m(\u001b[0m\u001b[0mx_train\u001b[0m\u001b[1;33m,\u001b[0m \u001b[0my_train\u001b[0m\u001b[1;33m)\u001b[0m\u001b[1;31m#将数据传入\u001b[0m\u001b[1;33m\u001b[0m\u001b[1;33m\u001b[0m\u001b[0m\n\u001b[0m\u001b[0;32m     18\u001b[0m \u001b[1;33m\u001b[0m\u001b[0m\n",
      "\u001b[1;32mA:\\1-Applications\\1-anaconda\\lib\\site-packages\\sklearn\\utils\\validation.py\u001b[0m in \u001b[0;36minner_f\u001b[1;34m(*args, **kwargs)\u001b[0m\n\u001b[0;32m     61\u001b[0m             \u001b[0mextra_args\u001b[0m \u001b[1;33m=\u001b[0m \u001b[0mlen\u001b[0m\u001b[1;33m(\u001b[0m\u001b[0margs\u001b[0m\u001b[1;33m)\u001b[0m \u001b[1;33m-\u001b[0m \u001b[0mlen\u001b[0m\u001b[1;33m(\u001b[0m\u001b[0mall_args\u001b[0m\u001b[1;33m)\u001b[0m\u001b[1;33m\u001b[0m\u001b[1;33m\u001b[0m\u001b[0m\n\u001b[0;32m     62\u001b[0m             \u001b[1;32mif\u001b[0m \u001b[0mextra_args\u001b[0m \u001b[1;33m<=\u001b[0m \u001b[1;36m0\u001b[0m\u001b[1;33m:\u001b[0m\u001b[1;33m\u001b[0m\u001b[1;33m\u001b[0m\u001b[0m\n\u001b[1;32m---> 63\u001b[1;33m                 \u001b[1;32mreturn\u001b[0m \u001b[0mf\u001b[0m\u001b[1;33m(\u001b[0m\u001b[1;33m*\u001b[0m\u001b[0margs\u001b[0m\u001b[1;33m,\u001b[0m \u001b[1;33m**\u001b[0m\u001b[0mkwargs\u001b[0m\u001b[1;33m)\u001b[0m\u001b[1;33m\u001b[0m\u001b[1;33m\u001b[0m\u001b[0m\n\u001b[0m\u001b[0;32m     64\u001b[0m \u001b[1;33m\u001b[0m\u001b[0m\n\u001b[0;32m     65\u001b[0m             \u001b[1;31m# extra_args > 0\u001b[0m\u001b[1;33m\u001b[0m\u001b[1;33m\u001b[0m\u001b[1;33m\u001b[0m\u001b[0m\n",
      "\u001b[1;32mA:\\1-Applications\\1-anaconda\\lib\\site-packages\\sklearn\\model_selection\\_search.py\u001b[0m in \u001b[0;36mfit\u001b[1;34m(self, X, y, groups, **fit_params)\u001b[0m\n\u001b[0;32m    839\u001b[0m                 \u001b[1;32mreturn\u001b[0m \u001b[0mresults\u001b[0m\u001b[1;33m\u001b[0m\u001b[1;33m\u001b[0m\u001b[0m\n\u001b[0;32m    840\u001b[0m \u001b[1;33m\u001b[0m\u001b[0m\n\u001b[1;32m--> 841\u001b[1;33m             \u001b[0mself\u001b[0m\u001b[1;33m.\u001b[0m\u001b[0m_run_search\u001b[0m\u001b[1;33m(\u001b[0m\u001b[0mevaluate_candidates\u001b[0m\u001b[1;33m)\u001b[0m\u001b[1;33m\u001b[0m\u001b[1;33m\u001b[0m\u001b[0m\n\u001b[0m\u001b[0;32m    842\u001b[0m \u001b[1;33m\u001b[0m\u001b[0m\n\u001b[0;32m    843\u001b[0m             \u001b[1;31m# multimetric is determined here because in the case of a callable\u001b[0m\u001b[1;33m\u001b[0m\u001b[1;33m\u001b[0m\u001b[1;33m\u001b[0m\u001b[0m\n",
      "\u001b[1;32mA:\\1-Applications\\1-anaconda\\lib\\site-packages\\sklearn\\model_selection\\_search.py\u001b[0m in \u001b[0;36m_run_search\u001b[1;34m(self, evaluate_candidates)\u001b[0m\n\u001b[0;32m   1286\u001b[0m     \u001b[1;32mdef\u001b[0m \u001b[0m_run_search\u001b[0m\u001b[1;33m(\u001b[0m\u001b[0mself\u001b[0m\u001b[1;33m,\u001b[0m \u001b[0mevaluate_candidates\u001b[0m\u001b[1;33m)\u001b[0m\u001b[1;33m:\u001b[0m\u001b[1;33m\u001b[0m\u001b[1;33m\u001b[0m\u001b[0m\n\u001b[0;32m   1287\u001b[0m         \u001b[1;34m\"\"\"Search all candidates in param_grid\"\"\"\u001b[0m\u001b[1;33m\u001b[0m\u001b[1;33m\u001b[0m\u001b[0m\n\u001b[1;32m-> 1288\u001b[1;33m         \u001b[0mevaluate_candidates\u001b[0m\u001b[1;33m(\u001b[0m\u001b[0mParameterGrid\u001b[0m\u001b[1;33m(\u001b[0m\u001b[0mself\u001b[0m\u001b[1;33m.\u001b[0m\u001b[0mparam_grid\u001b[0m\u001b[1;33m)\u001b[0m\u001b[1;33m)\u001b[0m\u001b[1;33m\u001b[0m\u001b[1;33m\u001b[0m\u001b[0m\n\u001b[0m\u001b[0;32m   1289\u001b[0m \u001b[1;33m\u001b[0m\u001b[0m\n\u001b[0;32m   1290\u001b[0m \u001b[1;33m\u001b[0m\u001b[0m\n",
      "\u001b[1;32mA:\\1-Applications\\1-anaconda\\lib\\site-packages\\sklearn\\model_selection\\_search.py\u001b[0m in \u001b[0;36mevaluate_candidates\u001b[1;34m(candidate_params, cv, more_results)\u001b[0m\n\u001b[0;32m    793\u001b[0m                               n_splits, n_candidates, n_candidates * n_splits))\n\u001b[0;32m    794\u001b[0m \u001b[1;33m\u001b[0m\u001b[0m\n\u001b[1;32m--> 795\u001b[1;33m                 out = parallel(delayed(_fit_and_score)(clone(base_estimator),\n\u001b[0m\u001b[0;32m    796\u001b[0m                                                        \u001b[0mX\u001b[0m\u001b[1;33m,\u001b[0m \u001b[0my\u001b[0m\u001b[1;33m,\u001b[0m\u001b[1;33m\u001b[0m\u001b[1;33m\u001b[0m\u001b[0m\n\u001b[0;32m    797\u001b[0m                                                        \u001b[0mtrain\u001b[0m\u001b[1;33m=\u001b[0m\u001b[0mtrain\u001b[0m\u001b[1;33m,\u001b[0m \u001b[0mtest\u001b[0m\u001b[1;33m=\u001b[0m\u001b[0mtest\u001b[0m\u001b[1;33m,\u001b[0m\u001b[1;33m\u001b[0m\u001b[1;33m\u001b[0m\u001b[0m\n",
      "\u001b[1;32mA:\\1-Applications\\1-anaconda\\lib\\site-packages\\joblib\\parallel.py\u001b[0m in \u001b[0;36m__call__\u001b[1;34m(self, iterable)\u001b[0m\n\u001b[0;32m   1052\u001b[0m \u001b[1;33m\u001b[0m\u001b[0m\n\u001b[0;32m   1053\u001b[0m             \u001b[1;32mwith\u001b[0m \u001b[0mself\u001b[0m\u001b[1;33m.\u001b[0m\u001b[0m_backend\u001b[0m\u001b[1;33m.\u001b[0m\u001b[0mretrieval_context\u001b[0m\u001b[1;33m(\u001b[0m\u001b[1;33m)\u001b[0m\u001b[1;33m:\u001b[0m\u001b[1;33m\u001b[0m\u001b[1;33m\u001b[0m\u001b[0m\n\u001b[1;32m-> 1054\u001b[1;33m                 \u001b[0mself\u001b[0m\u001b[1;33m.\u001b[0m\u001b[0mretrieve\u001b[0m\u001b[1;33m(\u001b[0m\u001b[1;33m)\u001b[0m\u001b[1;33m\u001b[0m\u001b[1;33m\u001b[0m\u001b[0m\n\u001b[0m\u001b[0;32m   1055\u001b[0m             \u001b[1;31m# Make sure that we get a last message telling us we are done\u001b[0m\u001b[1;33m\u001b[0m\u001b[1;33m\u001b[0m\u001b[1;33m\u001b[0m\u001b[0m\n\u001b[0;32m   1056\u001b[0m             \u001b[0melapsed_time\u001b[0m \u001b[1;33m=\u001b[0m \u001b[0mtime\u001b[0m\u001b[1;33m.\u001b[0m\u001b[0mtime\u001b[0m\u001b[1;33m(\u001b[0m\u001b[1;33m)\u001b[0m \u001b[1;33m-\u001b[0m \u001b[0mself\u001b[0m\u001b[1;33m.\u001b[0m\u001b[0m_start_time\u001b[0m\u001b[1;33m\u001b[0m\u001b[1;33m\u001b[0m\u001b[0m\n",
      "\u001b[1;32mA:\\1-Applications\\1-anaconda\\lib\\site-packages\\joblib\\parallel.py\u001b[0m in \u001b[0;36mretrieve\u001b[1;34m(self)\u001b[0m\n\u001b[0;32m    931\u001b[0m             \u001b[1;32mtry\u001b[0m\u001b[1;33m:\u001b[0m\u001b[1;33m\u001b[0m\u001b[1;33m\u001b[0m\u001b[0m\n\u001b[0;32m    932\u001b[0m                 \u001b[1;32mif\u001b[0m \u001b[0mgetattr\u001b[0m\u001b[1;33m(\u001b[0m\u001b[0mself\u001b[0m\u001b[1;33m.\u001b[0m\u001b[0m_backend\u001b[0m\u001b[1;33m,\u001b[0m \u001b[1;34m'supports_timeout'\u001b[0m\u001b[1;33m,\u001b[0m \u001b[1;32mFalse\u001b[0m\u001b[1;33m)\u001b[0m\u001b[1;33m:\u001b[0m\u001b[1;33m\u001b[0m\u001b[1;33m\u001b[0m\u001b[0m\n\u001b[1;32m--> 933\u001b[1;33m                     \u001b[0mself\u001b[0m\u001b[1;33m.\u001b[0m\u001b[0m_output\u001b[0m\u001b[1;33m.\u001b[0m\u001b[0mextend\u001b[0m\u001b[1;33m(\u001b[0m\u001b[0mjob\u001b[0m\u001b[1;33m.\u001b[0m\u001b[0mget\u001b[0m\u001b[1;33m(\u001b[0m\u001b[0mtimeout\u001b[0m\u001b[1;33m=\u001b[0m\u001b[0mself\u001b[0m\u001b[1;33m.\u001b[0m\u001b[0mtimeout\u001b[0m\u001b[1;33m)\u001b[0m\u001b[1;33m)\u001b[0m\u001b[1;33m\u001b[0m\u001b[1;33m\u001b[0m\u001b[0m\n\u001b[0m\u001b[0;32m    934\u001b[0m                 \u001b[1;32melse\u001b[0m\u001b[1;33m:\u001b[0m\u001b[1;33m\u001b[0m\u001b[1;33m\u001b[0m\u001b[0m\n\u001b[0;32m    935\u001b[0m                     \u001b[0mself\u001b[0m\u001b[1;33m.\u001b[0m\u001b[0m_output\u001b[0m\u001b[1;33m.\u001b[0m\u001b[0mextend\u001b[0m\u001b[1;33m(\u001b[0m\u001b[0mjob\u001b[0m\u001b[1;33m.\u001b[0m\u001b[0mget\u001b[0m\u001b[1;33m(\u001b[0m\u001b[1;33m)\u001b[0m\u001b[1;33m)\u001b[0m\u001b[1;33m\u001b[0m\u001b[1;33m\u001b[0m\u001b[0m\n",
      "\u001b[1;32mA:\\1-Applications\\1-anaconda\\lib\\site-packages\\joblib\\_parallel_backends.py\u001b[0m in \u001b[0;36mwrap_future_result\u001b[1;34m(future, timeout)\u001b[0m\n\u001b[0;32m    540\u001b[0m         AsyncResults.get from multiprocessing.\"\"\"\n\u001b[0;32m    541\u001b[0m         \u001b[1;32mtry\u001b[0m\u001b[1;33m:\u001b[0m\u001b[1;33m\u001b[0m\u001b[1;33m\u001b[0m\u001b[0m\n\u001b[1;32m--> 542\u001b[1;33m             \u001b[1;32mreturn\u001b[0m \u001b[0mfuture\u001b[0m\u001b[1;33m.\u001b[0m\u001b[0mresult\u001b[0m\u001b[1;33m(\u001b[0m\u001b[0mtimeout\u001b[0m\u001b[1;33m=\u001b[0m\u001b[0mtimeout\u001b[0m\u001b[1;33m)\u001b[0m\u001b[1;33m\u001b[0m\u001b[1;33m\u001b[0m\u001b[0m\n\u001b[0m\u001b[0;32m    543\u001b[0m         \u001b[1;32mexcept\u001b[0m \u001b[0mCfTimeoutError\u001b[0m \u001b[1;32mas\u001b[0m \u001b[0me\u001b[0m\u001b[1;33m:\u001b[0m\u001b[1;33m\u001b[0m\u001b[1;33m\u001b[0m\u001b[0m\n\u001b[0;32m    544\u001b[0m             \u001b[1;32mraise\u001b[0m \u001b[0mTimeoutError\u001b[0m \u001b[1;32mfrom\u001b[0m \u001b[0me\u001b[0m\u001b[1;33m\u001b[0m\u001b[1;33m\u001b[0m\u001b[0m\n",
      "\u001b[1;32mA:\\1-Applications\\1-anaconda\\lib\\concurrent\\futures\\_base.py\u001b[0m in \u001b[0;36mresult\u001b[1;34m(self, timeout)\u001b[0m\n\u001b[0;32m    432\u001b[0m                 \u001b[1;32mreturn\u001b[0m \u001b[0mself\u001b[0m\u001b[1;33m.\u001b[0m\u001b[0m__get_result\u001b[0m\u001b[1;33m(\u001b[0m\u001b[1;33m)\u001b[0m\u001b[1;33m\u001b[0m\u001b[1;33m\u001b[0m\u001b[0m\n\u001b[0;32m    433\u001b[0m \u001b[1;33m\u001b[0m\u001b[0m\n\u001b[1;32m--> 434\u001b[1;33m             \u001b[0mself\u001b[0m\u001b[1;33m.\u001b[0m\u001b[0m_condition\u001b[0m\u001b[1;33m.\u001b[0m\u001b[0mwait\u001b[0m\u001b[1;33m(\u001b[0m\u001b[0mtimeout\u001b[0m\u001b[1;33m)\u001b[0m\u001b[1;33m\u001b[0m\u001b[1;33m\u001b[0m\u001b[0m\n\u001b[0m\u001b[0;32m    435\u001b[0m \u001b[1;33m\u001b[0m\u001b[0m\n\u001b[0;32m    436\u001b[0m             \u001b[1;32mif\u001b[0m \u001b[0mself\u001b[0m\u001b[1;33m.\u001b[0m\u001b[0m_state\u001b[0m \u001b[1;32min\u001b[0m \u001b[1;33m[\u001b[0m\u001b[0mCANCELLED\u001b[0m\u001b[1;33m,\u001b[0m \u001b[0mCANCELLED_AND_NOTIFIED\u001b[0m\u001b[1;33m]\u001b[0m\u001b[1;33m:\u001b[0m\u001b[1;33m\u001b[0m\u001b[1;33m\u001b[0m\u001b[0m\n",
      "\u001b[1;32mA:\\1-Applications\\1-anaconda\\lib\\threading.py\u001b[0m in \u001b[0;36mwait\u001b[1;34m(self, timeout)\u001b[0m\n\u001b[0;32m    300\u001b[0m         \u001b[1;32mtry\u001b[0m\u001b[1;33m:\u001b[0m    \u001b[1;31m# restore state no matter what (e.g., KeyboardInterrupt)\u001b[0m\u001b[1;33m\u001b[0m\u001b[1;33m\u001b[0m\u001b[0m\n\u001b[0;32m    301\u001b[0m             \u001b[1;32mif\u001b[0m \u001b[0mtimeout\u001b[0m \u001b[1;32mis\u001b[0m \u001b[1;32mNone\u001b[0m\u001b[1;33m:\u001b[0m\u001b[1;33m\u001b[0m\u001b[1;33m\u001b[0m\u001b[0m\n\u001b[1;32m--> 302\u001b[1;33m                 \u001b[0mwaiter\u001b[0m\u001b[1;33m.\u001b[0m\u001b[0macquire\u001b[0m\u001b[1;33m(\u001b[0m\u001b[1;33m)\u001b[0m\u001b[1;33m\u001b[0m\u001b[1;33m\u001b[0m\u001b[0m\n\u001b[0m\u001b[0;32m    303\u001b[0m                 \u001b[0mgotit\u001b[0m \u001b[1;33m=\u001b[0m \u001b[1;32mTrue\u001b[0m\u001b[1;33m\u001b[0m\u001b[1;33m\u001b[0m\u001b[0m\n\u001b[0;32m    304\u001b[0m             \u001b[1;32melse\u001b[0m\u001b[1;33m:\u001b[0m\u001b[1;33m\u001b[0m\u001b[1;33m\u001b[0m\u001b[0m\n",
      "\u001b[1;31mKeyboardInterrupt\u001b[0m: "
     ]
    }
   ],
   "source": [
    "#对随机森林进行参数调整\n",
    "from sklearn.ensemble import RandomForestRegressor\n",
    "from sklearn.model_selection import GridSearchCV\n",
    "\n",
    "\n",
    "#输入超参数组\n",
    "param_grid = [{'n_estimators': range(50,150,5),\n",
    "              'max_depth': range(5,20,2),\n",
    "              \"max_features\":[\"auto\",\"sqrt\",\"log2\"],\n",
    "              \"min_samples_split\":range(2,10,2),\n",
    "               \"min_impurity_decrease\":[0,0.05,0.1]\n",
    "              }]\n",
    "forest_reg = RandomForestRegressor(random_state=42,max_depth=15)#设置好随机森林模型\n",
    "grid_search_n = GridSearchCV(forest_reg, param_grid, cv=5,n_jobs=5,\n",
    "                           scoring='neg_mean_squared_error', return_train_score=True)\n",
    "#将模型赋给gridsearch\n",
    "grid_search_n.fit(x_train, y_train)#将数据传入\n",
    "\n"
   ]
  },
  {
   "cell_type": "code",
   "execution_count": 8,
   "id": "a06b6f5b",
   "metadata": {
    "scrolled": false
   },
   "outputs": [
    {
     "name": "stdout",
     "output_type": "stream",
     "text": [
      "50 7 sqrt 2 0\n"
     ]
    }
   ],
   "source": [
    "best_params_n=grid_search_n.best_params_['n_estimators']\n",
    "best_params_d=grid_search_n.best_params_['max_depth']\n",
    "best_params_f=grid_search_n.best_params_['max_features']\n",
    "best_params_s=grid_search_n.best_params_['min_samples_split']\n",
    "best_params_i=grid_search_n.best_params_['min_impurity_decrease']\n",
    "print(best_params_n,best_params_d,best_params_f,best_params_s,best_params_i)"
   ]
  },
  {
   "cell_type": "code",
   "execution_count": 8,
   "id": "39d50eb2",
   "metadata": {},
   "outputs": [],
   "source": [
    "#输入超参数组合\n",
    "param_grid_n = [{'n_estimators': range(50,150,1)}]\n",
    "forest_reg = RandomForestRegressor(random_state=42)#设置好随机森林模型\n",
    "grid_search_n = GridSearchCV(forest_reg, param_grid_n, cv=5,n_jobs=5,\n",
    "                           scoring='neg_mean_squared_error', return_train_score=True)\n",
    "#将模型赋给gridsearch\n",
    "grid_search_n.fit(x_train, y_train)#将数据传入\n",
    "\n",
    "best_params_n=grid_search_n.best_params_['n_estimators']"
   ]
  },
  {
   "cell_type": "code",
   "execution_count": 9,
   "id": "d355792a",
   "metadata": {},
   "outputs": [],
   "source": [
    "#输入超参数组合\n",
    "param_grid_d = [{'max_depth': range(1,30,1)}]\n",
    "forest_reg = RandomForestRegressor(random_state=42,n_estimators=best_params_n)#设置好随机森林模型\n",
    "grid_search_d = GridSearchCV(forest_reg, param_grid_d, cv=5,n_jobs=5,\n",
    "                           scoring='neg_mean_squared_error', return_train_score=True)\n",
    "#将模型赋给gridsearch\n",
    "grid_search_d.fit(x_train, y_train)#将数据传入\n",
    "\n",
    "best_params_d=grid_search_d.best_params_['max_depth']"
   ]
  },
  {
   "cell_type": "code",
   "execution_count": null,
   "id": "375a837e",
   "metadata": {},
   "outputs": [],
   "source": [
    "#param:输入的字典数据，记录了调参结果，x:输入的是n调参还是d调参，save:是否保存\n",
    "def save_paramdata(param_dict,x,save):\n",
    "    data=pd.DataFrame(param_dict)\n",
    "\n",
    "    data[\"rmse_train\"]=np.sqrt(-data['mean_train_score'])\n",
    "    data[\"rmse_test\"]=np.sqrt(-data['mean_test_score'])\n",
    "    data[\"STDrmse_train\"]=((data[\"rmse_train\"]-data[\"rmse_train\"].min())/(data[\"rmse_train\"].max()-data[\"rmse_train\"].min()))\n",
    "    data[\"STDrmse_test\"]=((data[\"rmse_test\"]-data[\"rmse_test\"].min())/(data[\"rmse_test\"].max()-data[\"rmse_test\"].min()))\n",
    "    if x==\"n\":\n",
    "        data[\"param\"]=param_dict[\"param_n_estimators\"]        \n",
    "        param_name=\"_N\"\n",
    "    if x==\"d\":\n",
    "        data[\"param\"]=param_dict[\"param_max_depth\"] \n",
    "        param_name=\"_D\"\n",
    "    if save==1:\n",
    "        save_name=model_name+\"_\"+database_name+\"_\"+str(HR)+param_name\n",
    "        data.to_csv(\"./result/train/param/\"+save_name+\".csv\")\n",
    "    return data"
   ]
  },
  {
   "cell_type": "raw",
   "id": "35b5aa1d",
   "metadata": {
    "scrolled": true
   },
   "source": [
    "print(\"n:\",best_params_n,\"d:\",best_params_depth)\n",
    "cvres_n=grid_search_n.cv_results_\n",
    "cvres_d=grid_search_d.cv_results_"
   ]
  },
  {
   "cell_type": "raw",
   "id": "0886d890",
   "metadata": {},
   "source": [
    "data_n=save_paramdata(cvres_n,\"n\",0)\n",
    "data_d=save_paramdata(cvres_d,\"d\",0)"
   ]
  },
  {
   "cell_type": "code",
   "execution_count": null,
   "id": "059da4c5",
   "metadata": {},
   "outputs": [],
   "source": [
    "#随着参数变化RMSE变化趋势，a:输入的矩阵，param_name:是对n_estimator求还是max_depth，xs图中剪头位置，save:是否保存，1为保存\n",
    "def draw_param(a,param_name,xs,save):\n",
    "    from matplotlib.ticker import MultipleLocator, FormatStrFormatter\n",
    "    fig,ax=plt.subplots(figsize=(6,3))\n",
    "    ax2=ax.twinx()\n",
    "    lns1=ax.plot(a[\"param\"],a[\"rmse_train\"],'r-',label=\"Train\",linewidth=1,\n",
    "                 marker=\"+\",markersize=2)\n",
    "    lns2=ax2.plot(a[\"param\"],a[\"rmse_test\"],\"b-\",label=\"Validation\",linewidth=1,\n",
    "                  marker=\"+\",markersize=2)\n",
    "    lns=lns1+lns2\n",
    "    labs = [l.get_label() for l in lns]\n",
    "    #设置轴\n",
    "    ax.set_xlim(a[\"param\"].min()-2,a[\"param\"].max()+2)\n",
    "    xlim=math.ceil((a[\"param\"].max()-a[\"param\"].min())/5)\n",
    "    dertay=(a[\"rmse_train\"].max()-a[\"rmse_train\"].min())\n",
    "    ymin=a[\"rmse_train\"].min()\n",
    "    print(a[\"rmse_test\"].min())\n",
    "    print(a[\"rmse_test\"].max())\n",
    "    \n",
    "    xmajorLocator  = MultipleLocator(xlim) #将x主刻度标签设置为20的倍数 \n",
    "    xminorLocator  = MultipleLocator(xlim/5) #将x轴次刻度标签设置为5的倍数 \n",
    "    ax.xaxis.set_major_locator(xmajorLocator) \n",
    "    ax.xaxis.set_minor_locator(xminorLocator) \n",
    "\n",
    "    if param_name==\"n\":\n",
    "        words=str(xs)\n",
    "        xys=(xs,ymin+dertay/8)\n",
    "        xytexts=(xs,ymin+dertay/2)\n",
    "        xlabels=\"n_estimators\"\n",
    "        ax.legend(lns, labs, loc=2,fontsize=16)\n",
    "        \n",
    "    if param_name==\"d\":\n",
    "        words=str(xs)\n",
    "        xys=(xs,ymin+dertay/8)\n",
    "        xytexts=(xs,ymin+dertay/2)\n",
    "        xlabels=\"max_depth\"\n",
    "        ax.legend(lns, labs, loc=1,fontsize=16)\n",
    "        \n",
    "    ax.annotate(words, xys, xytext=xytexts, \n",
    "#                 textcoords='axes fraction',\n",
    "            arrowprops=dict(facecolor='black'),fontsize=16,\n",
    "            horizontalalignment='center', verticalalignment='top')\n",
    "    ax.set_xlabel(xlabels,fontsize=16)\n",
    "    ax.set_ylabel(\"RMSE(%) of Train\",fontsize=18)\n",
    "    ax2.set_ylabel(\"RMSE(%) of Validation\",fontsize=18)\n",
    "\n",
    "    ax.tick_params(labelsize=16)\n",
    "    ax2.tick_params(labelsize=16)\n",
    "    \n",
    "    if save==1:\n",
    "        save_name=model_name+\"_\"+database_name+\"_\"+str(HR)+\"_\"+param_name\n",
    "        plt.savefig(fname=\"./result/train/param/\"+save_name+\".png\",dpi=150,bbox_inches=\"tight\")"
   ]
  },
  {
   "cell_type": "code",
   "execution_count": null,
   "id": "b06b924d",
   "metadata": {
    "scrolled": false
   },
   "outputs": [],
   "source": [
    "draw_param(data_d,\"d\",best_params_depth,0)"
   ]
  },
  {
   "cell_type": "code",
   "execution_count": null,
   "id": "3b6049de",
   "metadata": {
    "scrolled": true
   },
   "outputs": [],
   "source": [
    "draw_param(data_n,\"n\",best_params_n,0)"
   ]
  },
  {
   "cell_type": "code",
   "execution_count": 12,
   "id": "09b6290f",
   "metadata": {
    "scrolled": true
   },
   "outputs": [],
   "source": [
    "#利用最佳参数再运行一次RF\n",
    "final_forest_reg = RandomForestRegressor(\n",
    "#     min_samples_leaf=6,max_features=\"sqrt\",n_estimators=180,max_depth=10,\n",
    "    n_estimators=best_params_n,max_depth=best_params_d,\n",
    "#     min_samples_leaf=best_params_s,max_features=best_params_f,\n",
    "#     min_impurity_decrease=best_params_i,\n",
    "                                         random_state=42)\n",
    "final_forest_reg.fit(x_train, y_train)\n",
    "y_train_pred=final_forest_reg.predict(x_train)\n",
    "y_pred=final_forest_reg.predict(x_test)"
   ]
  },
  {
   "cell_type": "code",
   "execution_count": 13,
   "id": "80f14512",
   "metadata": {},
   "outputs": [],
   "source": [
    "def relative_error(y_true,y_pred):\n",
    "    term1=np.sqrt(np.square(y_true-y_pred).sum())\n",
    "    term2=np.sqrt(np.square(y_true).sum())\n",
    "    return term1/term2"
   ]
  },
  {
   "cell_type": "code",
   "execution_count": 14,
   "id": "fa355450",
   "metadata": {
    "scrolled": true
   },
   "outputs": [
    {
     "data": {
      "text/plain": [
       "0.10619420011795613"
      ]
     },
     "execution_count": 14,
     "metadata": {},
     "output_type": "execute_result"
    }
   ],
   "source": [
    "test_r1=relative_error(y_test, y_pred)\n",
    "test_r1"
   ]
  },
  {
   "cell_type": "code",
   "execution_count": 15,
   "id": "40295e02",
   "metadata": {
    "scrolled": false
   },
   "outputs": [
    {
     "name": "stdout",
     "output_type": "stream",
     "text": [
      "RMSE 0.06433223753213133\n",
      "R2 0.9203955511680096\n"
     ]
    }
   ],
   "source": [
    "from sklearn.metrics import mean_squared_error#导入计算误差的函数\n",
    "from sklearn.metrics import r2_score\n",
    "from sklearn.metrics import mean_absolute_error\n",
    "test_r2= r2_score(y_test, y_pred)\n",
    "test_mse = mean_squared_error(y_test, y_pred)\n",
    "test_rmse = np.sqrt(test_mse)\n",
    "print(\"RMSE\",test_rmse)\n",
    "print(\"R2\",test_r2)"
   ]
  },
  {
   "cell_type": "code",
   "execution_count": 16,
   "id": "04558e73",
   "metadata": {},
   "outputs": [
    {
     "data": {
      "text/plain": [
       "0.05073825084757014"
      ]
     },
     "execution_count": 16,
     "metadata": {},
     "output_type": "execute_result"
    }
   ],
   "source": [
    "train_r2= r2_score(y_train, y_train_pred)\n",
    "train_mse = mean_squared_error(y_train, y_train_pred)\n",
    "train_rmse = np.sqrt(train_mse)\n",
    "train_r1=relative_error(y_train, y_train_pred)\n",
    "train_r1"
   ]
  },
  {
   "cell_type": "code",
   "execution_count": 20,
   "id": "9e2cbbe2",
   "metadata": {},
   "outputs": [
    {
     "name": "stdout",
     "output_type": "stream",
     "text": [
      "done save to RF_data2_0.35_test_performance.csv\n"
     ]
    }
   ],
   "source": [
    "def save_test_data():\n",
    "    data=pd.DataFrame({\n",
    "        \"Ltx\":x_test[\"Ltx\"],\n",
    "        \"D\":x_test[\"D\"],\n",
    "        \"MI\":x_test[\"MI\"],\n",
    "        \"y\":y_test.values,\n",
    "        \"pred\":y_pred,\n",
    "        \"r1\":test_r1,\n",
    "        \"R2\":test_r2,\n",
    "        \"RMSE\":test_rmse\n",
    "        \n",
    "    })\n",
    "    location=\"./result/test/performance/\"\n",
    "    name=model_name+\"_\"+database_name+\"_\"+str(ratio)+\"_test_performance\"+\".csv\"\n",
    "    data.to_csv(location+name,header=True,mode='w')\n",
    "    print(\"done save to\",name)\n",
    "    return data\n",
    "test_result=save_test_data()"
   ]
  },
  {
   "cell_type": "code",
   "execution_count": 21,
   "id": "661da90c",
   "metadata": {},
   "outputs": [
    {
     "name": "stdout",
     "output_type": "stream",
     "text": [
      "done save to RF_data2_0.35_train_performance.csv\n"
     ]
    }
   ],
   "source": [
    "def save_train_data():\n",
    "    data=pd.DataFrame({\n",
    "        \"Ltx\":x_train[\"Ltx\"],\n",
    "        \"D\":x_train[\"D\"],\n",
    "        \"MI\":x_train[\"MI\"],\n",
    "        \"y\":y_train.values,\n",
    "        \"pred\":y_train_pred,\n",
    "        \"r1\":train_r1,\n",
    "        \"R2\":train_r2,\n",
    "        \"RMSE\":train_rmse\n",
    "        \n",
    "    })\n",
    "    location=\"./result/test/performance/\"\n",
    "    name=model_name+\"_\"+database_name+\"_\"+str(ratio)+\"_train_performance\"+\".csv\"\n",
    "    data.to_csv(location+name,header=True,mode='w')\n",
    "    print(\"done save to\",name)\n",
    "    return data\n",
    "train_result=save_train_data()"
   ]
  },
  {
   "cell_type": "code",
   "execution_count": 18,
   "id": "b8f684f0",
   "metadata": {},
   "outputs": [],
   "source": [
    "data_save=pd.DataFrame({\"ratio\":ratio\n",
    "                        ,\"train\":x_train.shape[0]\n",
    "                        ,\"test\":x_test.shape[0]\n",
    "                        ,\"valid\":x_valid.shape[0]\n",
    "                        ,\"r1\":test_r1\n",
    "                        ,\"r2\":test_r2\n",
    "                        ,\"RMSE\":test_rmse\n",
    "                       , \"model\":model_name},index=[0])\n",
    "save_loc=\"./result/result.csv\"\n",
    "data_save.to_csv(save_loc,mode=\"a+\",index=False,header=False)\n",
    "# data_save.to_csv(save_loc,mode=\"a+\",index=False)"
   ]
  },
  {
   "cell_type": "code",
   "execution_count": null,
   "id": "0b455088",
   "metadata": {
    "scrolled": true
   },
   "outputs": [],
   "source": [
    "x_draw=np.arange(y_pred.shape[0])\n",
    "fig,ax=plt.subplots(1,1,figsize=(6,4.5))\n",
    "ax.tick_params(labelsize=12)\n",
    "ax.plot(x_draw,y_pred,\"r-\",label=\"Pred\")\n",
    "ax.plot(x_draw,y_test,\"b.\",linewidth=5,label=\"True\")\n",
    "ax.set_xlabel(\"No\",fontsize=15)\n",
    "ax.set_ylabel(\"MI\",fontsize=15)\n",
    "ax.set_title(model_name)\n",
    "ax.legend()\n",
    "\n",
    "ax.text(0.05,0.95,s=(\"$R_1$=\"+str(round(r1,4))),fontsize=12,transform=ax.transAxes)\n",
    "ax.text(0.05,0.9,s=(\"$R_2$=\"+str(round(test_r2,4))),fontsize=12,transform=ax.transAxes)\n",
    "\n",
    "\n",
    "fig.savefig(\"./figure/\"+model_name+\"_\"+database_name+\"_\"+str(round(r1,4))+\"_demo.png\",dpi=150,\n",
    "           bbox_inches=\"tight\")"
   ]
  }
 ],
 "metadata": {
  "kernelspec": {
   "display_name": "Python 3",
   "language": "python",
   "name": "python3"
  },
  "language_info": {
   "codemirror_mode": {
    "name": "ipython",
    "version": 3
   },
   "file_extension": ".py",
   "mimetype": "text/x-python",
   "name": "python",
   "nbconvert_exporter": "python",
   "pygments_lexer": "ipython3",
   "version": "3.8.8"
  }
 },
 "nbformat": 4,
 "nbformat_minor": 5
}
