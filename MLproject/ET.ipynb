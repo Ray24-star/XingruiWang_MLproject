{
 "cells": [
  {
   "cell_type": "code",
   "execution_count": 18,
   "id": "a7a1a94a",
   "metadata": {},
   "outputs": [],
   "source": [
    "#初始化\n",
    "import numpy as np\n",
    "import os\n",
    "import tarfile\n",
    "import sklearn\n",
    "import csv\n",
    "import math\n",
    "import pandas as pd\n",
    "import matplotlib.pyplot as plt\n",
    "plt.rcParams[\"font.family\"]=\"Times New Roman\"\n",
    "np.random.seed(42)\n",
    "from scipy.interpolate import splev\n",
    "import seaborn as sns\n",
    "import os"
   ]
  },
  {
   "cell_type": "code",
   "execution_count": 2,
   "id": "5eed12ac",
   "metadata": {},
   "outputs": [],
   "source": [
    "#读取数据\n",
    "database_name=\"data2\"\n",
    "# database_name=\"all\"\n",
    "\n",
    "model_name=\"ET\"\n",
    "def load_data(name):\n",
    "    location=\"./data/\"+name+\".csv\"\n",
    "    data=pd.read_csv(location,sep=\",\").iloc[:,:]\n",
    "    return data"
   ]
  },
  {
   "cell_type": "code",
   "execution_count": 3,
   "id": "a1c88164",
   "metadata": {
    "scrolled": true
   },
   "outputs": [],
   "source": [
    "data_org=load_data(database_name)\n",
    "data_x,data_y=data_org.iloc[:,:-1],data_org.iloc[:,-1]"
   ]
  },
  {
   "cell_type": "code",
   "execution_count": 4,
   "id": "523a2297",
   "metadata": {},
   "outputs": [],
   "source": [
    "ratio=0.35"
   ]
  },
  {
   "cell_type": "code",
   "execution_count": 20,
   "id": "a2ae5eed",
   "metadata": {},
   "outputs": [],
   "source": [
    "#划分测试集（暂定随机抽样）\n",
    "from sklearn.model_selection import train_test_split\n",
    "from sklearn.preprocessing import StandardScaler\n",
    "x_train_full, x_test, y_train_full, y_test = train_test_split(data_x,data_y,test_size=ratio, random_state=42)\n",
    "x_train, x_valid, y_train, y_valid = train_test_split(x_train_full, y_train_full, test_size=0.15,random_state=42)"
   ]
  },
  {
   "cell_type": "code",
   "execution_count": 8,
   "id": "7f7171f6",
   "metadata": {
    "scrolled": true
   },
   "outputs": [
    {
     "name": "stdout",
     "output_type": "stream",
     "text": [
      "(85, 3) (55, 3) (16, 3)\n"
     ]
    }
   ],
   "source": [
    "print(x_train.shape,x_test.shape,x_valid.shape)"
   ]
  },
  {
   "cell_type": "code",
   "execution_count": 9,
   "id": "08ff1cf9",
   "metadata": {},
   "outputs": [
    {
     "data": {
      "text/plain": [
       "GridSearchCV(cv=5, estimator=ExtraTreesRegressor(max_depth=15, random_state=42),\n",
       "             n_jobs=5,\n",
       "             param_grid=[{'max_depth': range(5, 20, 2),\n",
       "                          'max_features': ['auto', 'sqrt', 'log2'],\n",
       "                          'min_impurity_decrease': [0, 0.05, 0.1],\n",
       "                          'min_samples_split': range(2, 10, 2),\n",
       "                          'n_estimators': range(50, 150, 5)}],\n",
       "             return_train_score=True, scoring='neg_mean_squared_error')"
      ]
     },
     "execution_count": 9,
     "metadata": {},
     "output_type": "execute_result"
    }
   ],
   "source": [
    "#对随机森林进行参数调整\n",
    "from sklearn.ensemble import ExtraTreesRegressor\n",
    "from sklearn.model_selection import GridSearchCV\n",
    "\n",
    "\n",
    "#输入超参数组\n",
    "param_grid = [{'n_estimators': range(50,150,5),\n",
    "              'max_depth': range(5,20,2),\n",
    "              \"max_features\":[\"auto\",\"sqrt\",\"log2\"],\n",
    "              \"min_samples_split\":range(2,10,2),\n",
    "               \"min_impurity_decrease\":[0,0.05,0.1]\n",
    "              }]\n",
    "forest_reg = ExtraTreesRegressor(random_state=42,max_depth=15)#设置好随机森林模型\n",
    "grid_search_n = GridSearchCV(forest_reg, param_grid, cv=5,n_jobs=5,\n",
    "                           scoring='neg_mean_squared_error', return_train_score=True)\n",
    "#将模型赋给gridsearch\n",
    "grid_search_n.fit(x_train, y_train)#将数据传入\n"
   ]
  },
  {
   "cell_type": "code",
   "execution_count": 10,
   "id": "d73b96bb",
   "metadata": {},
   "outputs": [
    {
     "name": "stdout",
     "output_type": "stream",
     "text": [
      "60 11 sqrt 2 0\n"
     ]
    }
   ],
   "source": [
    "best_params_n=grid_search_n.best_params_['n_estimators']\n",
    "best_params_d=grid_search_n.best_params_['max_depth']\n",
    "best_params_f=grid_search_n.best_params_['max_features']\n",
    "best_params_s=grid_search_n.best_params_['min_samples_split']\n",
    "best_params_i=grid_search_n.best_params_['min_impurity_decrease']\n",
    "print(best_params_n,best_params_d,best_params_f,best_params_s,best_params_i)"
   ]
  },
  {
   "cell_type": "code",
   "execution_count": 201,
   "id": "80dd8bbc",
   "metadata": {},
   "outputs": [],
   "source": [
    "#输入超参数组合\n",
    "param_grid = [{'max_depth': range(1,30,1)}]\n",
    "forest_reg = ExtraTreesRegressor(random_state=42,n_estimators=best_params_n)#设置好随机森林模型\n",
    "grid_search_d = GridSearchCV(forest_reg, param_grid, cv=5,n_jobs=5,\n",
    "                           scoring='neg_mean_squared_error', return_train_score=True)\n",
    "#将模型赋给gridsearch\n",
    "grid_search_d.fit(x_train_full, y_train_full)#将数据传入\n",
    "\n",
    "best_params_depth=grid_search_d.best_params_['max_depth']"
   ]
  },
  {
   "cell_type": "code",
   "execution_count": 13,
   "id": "375a837e",
   "metadata": {},
   "outputs": [],
   "source": [
    "#param:输入的字典数据，记录了调参结果，x:输入的是n调参还是d调参，save:是否保存\n",
    "def save_paramdata(param_dict,x,save):\n",
    "    data=pd.DataFrame(param_dict)\n",
    "\n",
    "    data[\"rmse_train\"]=np.sqrt(-data['mean_train_score'])\n",
    "    data[\"rmse_test\"]=np.sqrt(-data['mean_test_score'])\n",
    "    data[\"STDrmse_train\"]=((data[\"rmse_train\"]-data[\"rmse_train\"].min())/(data[\"rmse_train\"].max()-data[\"rmse_train\"].min()))\n",
    "    data[\"STDrmse_test\"]=((data[\"rmse_test\"]-data[\"rmse_test\"].min())/(data[\"rmse_test\"].max()-data[\"rmse_test\"].min()))\n",
    "    if x==\"n\":\n",
    "        data[\"param\"]=param_dict[\"param_n_estimators\"]        \n",
    "        param_name=\"_N\"\n",
    "    if x==\"d\":\n",
    "        data[\"param\"]=param_dict[\"param_max_depth\"] \n",
    "        param_name=\"_D\"\n",
    "    if save==1:\n",
    "        save_name=model_name+\"_\"+database_name+\"_\"+str(HR)+param_name\n",
    "        data.to_csv(\"./result/train/param/\"+save_name+\".csv\")\n",
    "    return data"
   ]
  },
  {
   "cell_type": "code",
   "execution_count": 40,
   "id": "6c96a011",
   "metadata": {
    "scrolled": false
   },
   "outputs": [
    {
     "ename": "NameError",
     "evalue": "name 'best_params_depth' is not defined",
     "output_type": "error",
     "traceback": [
      "\u001b[1;31m---------------------------------------------------------------------------\u001b[0m",
      "\u001b[1;31mNameError\u001b[0m                                 Traceback (most recent call last)",
      "\u001b[1;32m<ipython-input-40-20efd2912621>\u001b[0m in \u001b[0;36m<module>\u001b[1;34m\u001b[0m\n\u001b[1;32m----> 1\u001b[1;33m \u001b[0mprint\u001b[0m\u001b[1;33m(\u001b[0m\u001b[1;34m\"n:\"\u001b[0m\u001b[1;33m,\u001b[0m\u001b[0mbest_params_n\u001b[0m\u001b[1;33m,\u001b[0m\u001b[1;34m\"d:\"\u001b[0m\u001b[1;33m,\u001b[0m\u001b[0mbest_params_depth\u001b[0m\u001b[1;33m)\u001b[0m\u001b[1;33m\u001b[0m\u001b[1;33m\u001b[0m\u001b[0m\n\u001b[0m\u001b[0;32m      2\u001b[0m \u001b[0mcvres_n\u001b[0m\u001b[1;33m=\u001b[0m\u001b[0mgrid_search_n\u001b[0m\u001b[1;33m.\u001b[0m\u001b[0mcv_results_\u001b[0m\u001b[1;33m\u001b[0m\u001b[1;33m\u001b[0m\u001b[0m\n\u001b[0;32m      3\u001b[0m \u001b[0mcvres_d\u001b[0m\u001b[1;33m=\u001b[0m\u001b[0mgrid_search_d\u001b[0m\u001b[1;33m.\u001b[0m\u001b[0mcv_results_\u001b[0m\u001b[1;33m\u001b[0m\u001b[1;33m\u001b[0m\u001b[0m\n",
      "\u001b[1;31mNameError\u001b[0m: name 'best_params_depth' is not defined"
     ]
    }
   ],
   "source": [
    "print(\"n:\",best_params_n,\"d:\",best_params_depth)\n",
    "cvres_n=grid_search_n.cv_results_\n",
    "cvres_d=grid_search_d.cv_results_"
   ]
  },
  {
   "cell_type": "code",
   "execution_count": 169,
   "id": "0b169f67",
   "metadata": {},
   "outputs": [],
   "source": [
    "data_n=save_paramdata(cvres_n,\"n\",0)\n",
    "data_d=save_paramdata(cvres_d,\"d\",0)"
   ]
  },
  {
   "cell_type": "code",
   "execution_count": 95,
   "id": "059da4c5",
   "metadata": {},
   "outputs": [],
   "source": [
    "#随着参数变化RMSE变化趋势，a:输入的矩阵，param_name:是对n_estimator求还是max_depth，xs图中剪头位置，save:是否保存，1为保存\n",
    "def draw_param(a,param_name,xs,save):\n",
    "    from matplotlib.ticker import MultipleLocator, FormatStrFormatter\n",
    "    fig,ax=plt.subplots(figsize=(6,3))\n",
    "    ax2=ax.twinx()\n",
    "    lns1=ax.plot(a[\"param\"],a[\"rmse_train\"],'r-',label=\"Train\",linewidth=1,\n",
    "                 marker=\"+\",markersize=2)\n",
    "    lns2=ax2.plot(a[\"param\"],a[\"rmse_test\"],\"b-\",label=\"Validation\",linewidth=1,\n",
    "                  marker=\"+\",markersize=2)\n",
    "    lns=lns1+lns2\n",
    "    labs = [l.get_label() for l in lns]\n",
    "    #设置轴\n",
    "    ax.set_xlim(a[\"param\"].min()-2,a[\"param\"].max()+2)\n",
    "    xlim=math.ceil((a[\"param\"].max()-a[\"param\"].min())/5)\n",
    "    dertay=(a[\"rmse_train\"].max()-a[\"rmse_train\"].min())\n",
    "    ymin=a[\"rmse_train\"].min()\n",
    "    print(a[\"rmse_test\"].min())\n",
    "    print(a[\"rmse_test\"].max())\n",
    "    \n",
    "    xmajorLocator  = MultipleLocator(xlim) #将x主刻度标签设置为20的倍数 \n",
    "    xminorLocator  = MultipleLocator(xlim/5) #将x轴次刻度标签设置为5的倍数 \n",
    "    ax.xaxis.set_major_locator(xmajorLocator) \n",
    "    ax.xaxis.set_minor_locator(xminorLocator) \n",
    "\n",
    "    if param_name==\"n\":\n",
    "        words=str(xs)\n",
    "        xys=(xs,ymin+dertay/8)\n",
    "        xytexts=(xs,ymin+dertay/2)\n",
    "        xlabels=\"n_estimators\"\n",
    "        ax.legend(lns, labs, loc=2,fontsize=16)\n",
    "        \n",
    "    if param_name==\"d\":\n",
    "        words=str(xs)\n",
    "        xys=(xs,ymin+dertay/8)\n",
    "        xytexts=(xs,ymin+dertay/2)\n",
    "        xlabels=\"max_depth\"\n",
    "        ax.legend(lns, labs, loc=1,fontsize=16)\n",
    "        \n",
    "    ax.annotate(words, xys, xytext=xytexts, \n",
    "#                 textcoords='axes fraction',\n",
    "            arrowprops=dict(facecolor='black'),fontsize=16,\n",
    "            horizontalalignment='center', verticalalignment='top')\n",
    "    ax.set_xlabel(xlabels,fontsize=16)\n",
    "    ax.set_ylabel(\"RMSE(%) of Train\",fontsize=18)\n",
    "    ax2.set_ylabel(\"RMSE(%) of Validation\",fontsize=18)\n",
    "\n",
    "    ax.tick_params(labelsize=16)\n",
    "    ax2.tick_params(labelsize=16)\n",
    "    \n",
    "    if save==1:\n",
    "        save_name=model_name+\"_\"+database_name+\"_\"+str(HR)+\"_\"+param_name\n",
    "        plt.savefig(fname=\"./result/train/param/\"+save_name+\".png\",dpi=150,bbox_inches=\"tight\")"
   ]
  },
  {
   "cell_type": "code",
   "execution_count": 203,
   "id": "701fc132",
   "metadata": {
    "scrolled": true
   },
   "outputs": [
    {
     "name": "stdout",
     "output_type": "stream",
     "text": [
      "0.05927449137677313\n",
      "0.16322732610156648\n"
     ]
    },
    {
     "data": {
      "image/png": "[encoded data removed]",
      "text/plain": [
       "<Figure size 432x216 with 2 Axes>"
      ]
     },
     "metadata": {
      "needs_background": "light"
     },
     "output_type": "display_data"
    }
   ],
   "source": [
    "draw_param(data_d,\"d\",best_params_depth,0)"
   ]
  },
  {
   "cell_type": "code",
   "execution_count": 204,
   "id": "3b6049de",
   "metadata": {
    "scrolled": false
   },
   "outputs": [
    {
     "name": "stdout",
     "output_type": "stream",
     "text": [
      "0.05939908854013022\n",
      "0.08864708020386688\n"
     ]
    },
    {
     "data": {
      "image/png": "[encoded data removed]",
      "text/plain": [
       "<Figure size 432x216 with 2 Axes>"
      ]
     },
     "metadata": {
      "needs_background": "light"
     },
     "output_type": "display_data"
    }
   ],
   "source": [
    "draw_param(data_n,\"n\",best_params_n,0)"
   ]
  },
  {
   "cell_type": "code",
   "execution_count": 33,
   "id": "09b6290f",
   "metadata": {},
   "outputs": [],
   "source": [
    "#利用最佳参数再运行一次RF\n",
    "final_forest_reg = ExtraTreesRegressor(\n",
    "   n_estimators=220,max_depth=12,\n",
    "#     n_estimators=best_params_n,max_depth=best_params_d,\n",
    "#     min_samples_leaf=best_params_s,max_features=best_params_f,\n",
    "#     min_impurity_decrease=best_params_i,\n",
    "                                         random_state=42)\n",
    "final_forest_reg.fit(x_train, y_train)\n",
    "y_train_pred=final_forest_reg.predict(x_train)\n",
    "y_pred=final_forest_reg.predict(x_test)"
   ]
  },
  {
   "cell_type": "code",
   "execution_count": 27,
   "id": "80f14512",
   "metadata": {},
   "outputs": [],
   "source": [
    "def relative_error(y_true,y_pred):\n",
    "    term1=np.sqrt(np.square(y_true-y_pred).sum())\n",
    "    term2=np.sqrt(np.square(y_true).sum())\n",
    "    return term1/term2"
   ]
  },
  {
   "cell_type": "code",
   "execution_count": 34,
   "id": "fa355450",
   "metadata": {
    "scrolled": false
   },
   "outputs": [
    {
     "data": {
      "text/plain": [
       "0.14784023378315234"
      ]
     },
     "execution_count": 34,
     "metadata": {},
     "output_type": "execute_result"
    }
   ],
   "source": [
    "test_r1=relative_error(y_test, y_pred)\n",
    "test_r1"
   ]
  },
  {
   "cell_type": "code",
   "execution_count": 32,
   "id": "40295e02",
   "metadata": {
    "scrolled": false
   },
   "outputs": [
    {
     "name": "stdout",
     "output_type": "stream",
     "text": [
      "RMSE 0.042850471534739656\n",
      "R2 0.9646823956684792\n"
     ]
    }
   ],
   "source": [
    "from sklearn.metrics import mean_squared_error#导入计算误差的函数\n",
    "from sklearn.metrics import r2_score\n",
    "from sklearn.metrics import mean_absolute_error\n",
    "test_r2= r2_score(y_test, y_pred)\n",
    "test_mse = mean_squared_error(y_test, y_pred)\n",
    "test_rmse = np.sqrt(test_mse)\n",
    "print(\"RMSE\",test_rmse)\n",
    "print(\"R2\",test_r2)"
   ]
  },
  {
   "cell_type": "code",
   "execution_count": 22,
   "id": "e142f4e9",
   "metadata": {},
   "outputs": [
    {
     "data": {
      "text/plain": [
       "(85,)"
      ]
     },
     "execution_count": 22,
     "metadata": {},
     "output_type": "execute_result"
    }
   ],
   "source": [
    "y_train.shape"
   ]
  },
  {
   "cell_type": "code",
   "execution_count": 35,
   "id": "50ad4333",
   "metadata": {},
   "outputs": [
    {
     "data": {
      "text/plain": [
       "0.1596852457781241"
      ]
     },
     "execution_count": 35,
     "metadata": {},
     "output_type": "execute_result"
    }
   ],
   "source": [
    "train_r2= r2_score(y_train, y_train_pred)\n",
    "train_mse = mean_squared_error(y_train, y_train_pred)\n",
    "train_rmse = np.sqrt(train_mse)\n",
    "train_r1=relative_error(y_train, y_train_pred)\n",
    "train_r1"
   ]
  },
  {
   "cell_type": "code",
   "execution_count": null,
   "id": "350724f5",
   "metadata": {},
   "outputs": [],
   "source": [
    "def save_test_data():\n",
    "    data=pd.DataFrame({\n",
    "        \"Ltx\":x_test[\"Ltx\"],\n",
    "        \"D\":x_test[\"D\"],\n",
    "        \"MI\":x_test[\"MI\"],\n",
    "        \"y\":y_test.values,\n",
    "        \"pred\":y_pred,\n",
    "        \"r1\":test_r1,\n",
    "        \"R2\":test_r2,\n",
    "        \"RMSE\":test_rmse\n",
    "        \n",
    "    })\n",
    "    location=\"./result/test/performance/\"\n",
    "    name=model_name+\"_\"+database_name+\"_\"+str(ratio)+\"_test_performance\"+\".csv\"\n",
    "    data.to_csv(location+name,header=True,mode='w')\n",
    "    print(\"done save to\",name)\n",
    "    return data\n",
    "test_result=save_test_data()"
   ]
  },
  {
   "cell_type": "code",
   "execution_count": 25,
   "id": "dd1535cf",
   "metadata": {},
   "outputs": [
    {
     "name": "stdout",
     "output_type": "stream",
     "text": [
      "done save to ET_data2_0.35_train_performance.csv\n"
     ]
    }
   ],
   "source": [
    "def save_train_data():\n",
    "    data=pd.DataFrame({\n",
    "        \"Ltx\":x_train[\"Ltx\"],\n",
    "        \"D\":x_train[\"D\"],\n",
    "        \"MI\":x_train[\"MI\"],\n",
    "        \"y\":y_train.values,\n",
    "        \"pred\":y_train_pred,\n",
    "        \"r1\":train_r1,\n",
    "        \"R2\":train_r2,\n",
    "        \"RMSE\":train_rmse\n",
    "        \n",
    "    })\n",
    "    location=\"./result/test/performance/\"\n",
    "    name=model_name+\"_\"+database_name+\"_\"+str(ratio)+\"_train_performance\"+\".csv\"\n",
    "    data.to_csv(location+name,header=True,mode='w')\n",
    "    print(\"done save to\",name)\n",
    "    return data\n",
    "train_result=save_train_data()"
   ]
  },
  {
   "cell_type": "code",
   "execution_count": 15,
   "id": "9e210114",
   "metadata": {},
   "outputs": [],
   "source": [
    "data_save=pd.DataFrame({\"ratio\":ratio\n",
    "                        ,\"train\":x_train.shape[0]\n",
    "                        ,\"test\":x_test.shape[0]\n",
    "                        ,\"valid\":x_valid.shape[0]\n",
    "                        ,\"r1\":r1\n",
    "                        ,\"r2\":test_r2\n",
    "                        ,\"RMSE\":test_rmse\n",
    "                       , \"model\":model_name},index=[0])\n",
    "save_loc=\"./result/result.csv\"\n",
    "data_save.to_csv(save_loc,mode=\"a+\",index=False,header=False)\n",
    "# data_save.to_csv(save_loc,mode=\"a+\",index=False)"
   ]
  },
  {
   "cell_type": "code",
   "execution_count": 148,
   "id": "0b455088",
   "metadata": {
    "scrolled": false
   },
   "outputs": [
    {
     "data": {
      "image/png": "[encoded data removed]",
      "text/plain": [
       "<Figure size 432x324 with 1 Axes>"
      ]
     },
     "metadata": {
      "needs_background": "light"
     },
     "output_type": "display_data"
    }
   ],
   "source": [
    "x_draw=np.arange(y_pred.shape[0])\n",
    "fig,ax=plt.subplots(1,1,figsize=(6,4.5))\n",
    "ax.tick_params(labelsize=12)\n",
    "ax.plot(x_draw,y_pred,\"r-\",label=\"Pred\")\n",
    "ax.plot(x_draw,y_test,\"b.\",linewidth=5,label=\"True\")\n",
    "ax.set_xlabel(\"No\",fontsize=15)\n",
    "ax.set_ylabel(\"MI\",fontsize=15)\n",
    "ax.set_title(model_name)\n",
    "ax.legend()\n",
    "\n",
    "ax.text(0.05,0.95,s=(\"$R_1$=\"+str(round(r1,4))),fontsize=12,transform=ax.transAxes)\n",
    "ax.text(0.05,0.9,s=(\"$R_2$=\"+str(round(test_r2,4))),fontsize=12,transform=ax.transAxes)\n",
    "\n",
    "\n",
    "fig.savefig(\"./figure/\"+model_name+\"_\"+database_name+\"_\"+str(round(r1,4))+\"_demo.png\",dpi=150,\n",
    "           bbox_inches=\"tight\")"
   ]
  }
 ],
 "metadata": {
  "kernelspec": {
   "display_name": "Python 3",
   "language": "python",
   "name": "python3"
  },
  "language_info": {
   "codemirror_mode": {
    "name": "ipython",
    "version": 3
   },
   "file_extension": ".py",
   "mimetype": "text/x-python",
   "name": "python",
   "nbconvert_exporter": "python",
   "pygments_lexer": "ipython3",
   "version": "3.8.8"
  }
 },
 "nbformat": 4,
 "nbformat_minor": 5
}
