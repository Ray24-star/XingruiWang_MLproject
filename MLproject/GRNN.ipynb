{
 "cells": [
  {
   "cell_type": "code",
   "execution_count": 1,
   "metadata": {
    "scrolled": true
   },
   "outputs": [],
   "source": [
    "import numpy as np\n",
    "import pandas as pd\n",
    "from sklearn.model_selection import train_test_split\n",
    "# from GeneralizedRegressionNeuralNetworks import GRNN\n",
    "import matplotlib.pyplot as plt\n",
    "plt.rcParams[\"font.family\"]=\"Times New Roman\"\n",
    "np.set_printoptions(precision=3)"
   ]
  },
  {
   "cell_type": "code",
   "execution_count": 22,
   "metadata": {},
   "outputs": [],
   "source": [
    "class GRNN :\n",
    "\n",
    "    def __init__(self,x_train,y_train,x_test,y_test):\n",
    "\n",
    "        self.x_train= x_train\n",
    "        self.y_train= y_train\n",
    "        self.x_test= x_test\n",
    "        self.y_test= y_test\n",
    "\n",
    "        self.std     = np.ones((1,self.y_train.size))#np.random.rand(1,self.train_y.size) #Standard deviations(std) are sometimes called RBF widths.\n",
    "\n",
    "    def activation_func(self,distances): # gaussian kernel\n",
    "        \n",
    "        return np.exp(- (distances**2) / 2*(self.std**2) )\n",
    "\n",
    "    def output(self,i):#sometimes called weight\n",
    "        # print(self.x_test[i],self.x_train)\n",
    "        distances=np.sqrt(np.sum((self.x_test[i]-self.x_train)**2,axis=1)) # euclidean distance\n",
    "\n",
    "        return self.activation_func(distances)\n",
    "   \n",
    "    def denominator(self,i):\n",
    "\n",
    "        return np.sum(self.output(i))\n",
    "\n",
    "    def numerator(self,i): \n",
    "\n",
    "        return  np.sum(self.output(i) * self.y_train)\n",
    "    \n",
    "    def predict(self):\n",
    "\n",
    "        predict_array = np.array([])\n",
    "\n",
    "        for i in range(self.y_test.size):\n",
    "            predict=np.array([self.numerator(i)/self.denominator(i)])\n",
    "            predict_array=np.append(predict_array,predict)\n",
    "        \n",
    "        return predict_array\n",
    "\n",
    "    \n",
    "    def mean_squared_error(self):\n",
    "\n",
    "        return (self.predict()-self.y_test)**2 /self.y_test.size\n",
    "    \n",
    "    def root_mean_squared_error(self):\n",
    "\n",
    "        return np.sqrt(self.mean_squared_error())\n"
   ]
  },
  {
   "cell_type": "code",
   "execution_count": 3,
   "metadata": {},
   "outputs": [],
   "source": [
    "#读取数据\n",
    "database_name=\"data2\"\n",
    "# database_name=\"all\"\n",
    "\n",
    "model_name=\"GRNN\"\n",
    "def load_data(name):\n",
    "    location=\"./data/\"+name+\".csv\"\n",
    "    data=pd.read_csv(location,sep=\",\").iloc[:,:]\n",
    "    return data"
   ]
  },
  {
   "cell_type": "code",
   "execution_count": 4,
   "metadata": {},
   "outputs": [],
   "source": [
    "data_org=load_data(database_name)\n",
    "data_x,data_y=data_org.iloc[:,:-1],data_org.iloc[:,-1]"
   ]
  },
  {
   "cell_type": "code",
   "execution_count": 5,
   "metadata": {},
   "outputs": [],
   "source": [
    "ratio=0.35"
   ]
  },
  {
   "cell_type": "code",
   "execution_count": 6,
   "metadata": {},
   "outputs": [],
   "source": [
    "#划分测试集（暂定随机抽样）\n",
    "from sklearn.model_selection import train_test_split\n",
    "from sklearn.preprocessing import StandardScaler\n",
    "x_train_full, x_test, y_train_full, y_test = train_test_split(data_x,data_y,test_size=ratio, random_state=42)\n",
    "x_train, x_valid, y_train, y_valid = train_test_split(x_train_full, y_train_full, test_size=0.15,random_state=42)"
   ]
  },
  {
   "cell_type": "code",
   "execution_count": 7,
   "metadata": {},
   "outputs": [
    {
     "name": "stdout",
     "output_type": "stream",
     "text": [
      "(85, 3) (55, 3) (16, 3)\n"
     ]
    }
   ],
   "source": [
    "print(x_train.shape,x_test.shape,x_valid.shape)"
   ]
  },
  {
   "cell_type": "markdown",
   "metadata": {},
   "source": [
    "### Create model"
   ]
  },
  {
   "cell_type": "code",
   "execution_count": 8,
   "metadata": {},
   "outputs": [],
   "source": [
    "x_train_full=np.array(x_train_full)\n",
    "y_train_full=np.array(y_train_full)\n",
    "x_train=np.array(x_train)\n",
    "y_train=np.array(y_train)\n",
    "\n",
    "x_test=np.array(x_test)\n",
    "y_test=np.array(y_test)"
   ]
  },
  {
   "cell_type": "code",
   "execution_count": 31,
   "metadata": {},
   "outputs": [],
   "source": [
    "model = GRNN(x_train,y_train,x_test,y_test)"
   ]
  },
  {
   "cell_type": "code",
   "execution_count": 32,
   "metadata": {
    "scrolled": false
   },
   "outputs": [
    {
     "name": "stdout",
     "output_type": "stream",
     "text": [
      "Output                                 : [0.496 0.644 0.468 0.595 0.468 1.162 0.439 0.292 0.452 0.43  1.032 0.483\n",
      " 1.12  0.471 0.658 1.005 0.331 0.543 0.385 0.336 0.518 1.327 0.643 0.803\n",
      " 0.829 0.285 0.499 0.56  0.596 0.51  0.818 0.335 0.831 0.355 0.408 0.429\n",
      " 0.398 0.541 0.996 0.77  0.361 0.339 0.198 0.705 0.583 0.748 0.309 0.516\n",
      " 0.708 0.748 0.537 0.462 0.803 0.269 0.188]\n",
      "MSE                                    : [6.401e-07 1.196e-05 7.986e-05 1.798e-05 9.497e-08 7.921e-04 1.121e-06\n",
      " 1.918e-05 7.237e-05 2.141e-05 2.597e-07 1.688e-05 1.508e-05 3.713e-05\n",
      " 1.003e-05 1.189e-05 2.245e-05 2.912e-05 8.865e-06 6.068e-07 5.540e-08\n",
      " 6.617e-04 3.635e-06 6.685e-06 3.619e-04 2.689e-05 1.142e-04 2.333e-04\n",
      " 1.992e-10 2.824e-07 1.555e-07 4.488e-05 2.608e-04 1.894e-05 1.704e-07\n",
      " 8.119e-09 1.978e-05 1.196e-04 7.367e-04 3.203e-04 2.946e-05 5.457e-05\n",
      " 1.306e-05 2.718e-07 1.301e-07 2.656e-05 2.250e-05 4.726e-05 2.959e-07\n",
      " 8.434e-05 1.380e-06 3.605e-05 1.600e-05 2.853e-06 1.300e-05]\n"
     ]
    }
   ],
   "source": [
    "print('Output                                 :',model.predict())\n",
    "print('MSE                                    :',model.mean_squared_error())"
   ]
  },
  {
   "cell_type": "code",
   "execution_count": 11,
   "metadata": {},
   "outputs": [],
   "source": [
    "def relative_error(y_true,y_pred):\n",
    "    term1=np.sqrt(np.square(y_true-y_pred).sum())\n",
    "    term2=np.sqrt(np.square(y_true).sum())\n",
    "    return term1/term2"
   ]
  },
  {
   "cell_type": "code",
   "execution_count": 33,
   "metadata": {},
   "outputs": [
    {
     "data": {
      "text/plain": [
       "0.11007609281927061"
      ]
     },
     "execution_count": 33,
     "metadata": {},
     "output_type": "execute_result"
    }
   ],
   "source": [
    "y_pred=model.predict()\n",
    "test_r1=relative_error(y_test, y_pred)\n",
    "test_r1"
   ]
  },
  {
   "cell_type": "code",
   "execution_count": 26,
   "metadata": {},
   "outputs": [
    {
     "ename": "IndexError",
     "evalue": "index 55 is out of bounds for axis 0 with size 55",
     "output_type": "error",
     "traceback": [
      "\u001b[1;31m---------------------------------------------------------------------------\u001b[0m",
      "\u001b[1;31mIndexError\u001b[0m                                Traceback (most recent call last)",
      "\u001b[1;32m<ipython-input-26-067c8a1c896e>\u001b[0m in \u001b[0;36m<module>\u001b[1;34m\u001b[0m\n\u001b[1;32m----> 1\u001b[1;33m \u001b[0my_train_pred\u001b[0m\u001b[1;33m=\u001b[0m\u001b[0mmodel\u001b[0m\u001b[1;33m.\u001b[0m\u001b[0mpredict_train\u001b[0m\u001b[1;33m(\u001b[0m\u001b[1;33m)\u001b[0m\u001b[1;33m\u001b[0m\u001b[1;33m\u001b[0m\u001b[0m\n\u001b[0m",
      "\u001b[1;32m<ipython-input-22-be8dbaef2ba4>\u001b[0m in \u001b[0;36mpredict_train\u001b[1;34m(self)\u001b[0m\n\u001b[0;32m     43\u001b[0m \u001b[1;33m\u001b[0m\u001b[0m\n\u001b[0;32m     44\u001b[0m         \u001b[1;32mfor\u001b[0m \u001b[0mi\u001b[0m \u001b[1;32min\u001b[0m \u001b[0mrange\u001b[0m\u001b[1;33m(\u001b[0m\u001b[0mself\u001b[0m\u001b[1;33m.\u001b[0m\u001b[0my_train\u001b[0m\u001b[1;33m.\u001b[0m\u001b[0msize\u001b[0m\u001b[1;33m)\u001b[0m\u001b[1;33m:\u001b[0m\u001b[1;33m\u001b[0m\u001b[1;33m\u001b[0m\u001b[0m\n\u001b[1;32m---> 45\u001b[1;33m             \u001b[0mpredict_train\u001b[0m\u001b[1;33m=\u001b[0m\u001b[0mnp\u001b[0m\u001b[1;33m.\u001b[0m\u001b[0marray\u001b[0m\u001b[1;33m(\u001b[0m\u001b[1;33m[\u001b[0m\u001b[0mself\u001b[0m\u001b[1;33m.\u001b[0m\u001b[0mnumerator\u001b[0m\u001b[1;33m(\u001b[0m\u001b[0mi\u001b[0m\u001b[1;33m)\u001b[0m\u001b[1;33m/\u001b[0m\u001b[0mself\u001b[0m\u001b[1;33m.\u001b[0m\u001b[0mdenominator\u001b[0m\u001b[1;33m(\u001b[0m\u001b[0mi\u001b[0m\u001b[1;33m)\u001b[0m\u001b[1;33m]\u001b[0m\u001b[1;33m)\u001b[0m\u001b[1;33m\u001b[0m\u001b[1;33m\u001b[0m\u001b[0m\n\u001b[0m\u001b[0;32m     46\u001b[0m             \u001b[0mpredict_train_array\u001b[0m\u001b[1;33m=\u001b[0m\u001b[0mnp\u001b[0m\u001b[1;33m.\u001b[0m\u001b[0mappend\u001b[0m\u001b[1;33m(\u001b[0m\u001b[0mpredict_train_array\u001b[0m\u001b[1;33m,\u001b[0m\u001b[0mpredict_train\u001b[0m\u001b[1;33m)\u001b[0m\u001b[1;33m\u001b[0m\u001b[1;33m\u001b[0m\u001b[0m\n\u001b[0;32m     47\u001b[0m \u001b[1;33m\u001b[0m\u001b[0m\n",
      "\u001b[1;32m<ipython-input-22-be8dbaef2ba4>\u001b[0m in \u001b[0;36mnumerator\u001b[1;34m(self, i)\u001b[0m\n\u001b[0;32m     26\u001b[0m     \u001b[1;32mdef\u001b[0m \u001b[0mnumerator\u001b[0m\u001b[1;33m(\u001b[0m\u001b[0mself\u001b[0m\u001b[1;33m,\u001b[0m\u001b[0mi\u001b[0m\u001b[1;33m)\u001b[0m\u001b[1;33m:\u001b[0m\u001b[1;33m\u001b[0m\u001b[1;33m\u001b[0m\u001b[0m\n\u001b[0;32m     27\u001b[0m \u001b[1;33m\u001b[0m\u001b[0m\n\u001b[1;32m---> 28\u001b[1;33m         \u001b[1;32mreturn\u001b[0m  \u001b[0mnp\u001b[0m\u001b[1;33m.\u001b[0m\u001b[0msum\u001b[0m\u001b[1;33m(\u001b[0m\u001b[0mself\u001b[0m\u001b[1;33m.\u001b[0m\u001b[0moutput\u001b[0m\u001b[1;33m(\u001b[0m\u001b[0mi\u001b[0m\u001b[1;33m)\u001b[0m \u001b[1;33m*\u001b[0m \u001b[0mself\u001b[0m\u001b[1;33m.\u001b[0m\u001b[0my_train\u001b[0m\u001b[1;33m)\u001b[0m\u001b[1;33m\u001b[0m\u001b[1;33m\u001b[0m\u001b[0m\n\u001b[0m\u001b[0;32m     29\u001b[0m \u001b[1;33m\u001b[0m\u001b[0m\n\u001b[0;32m     30\u001b[0m     \u001b[1;32mdef\u001b[0m \u001b[0mpredict\u001b[0m\u001b[1;33m(\u001b[0m\u001b[0mself\u001b[0m\u001b[1;33m)\u001b[0m\u001b[1;33m:\u001b[0m\u001b[1;33m\u001b[0m\u001b[1;33m\u001b[0m\u001b[0m\n",
      "\u001b[1;32m<ipython-input-22-be8dbaef2ba4>\u001b[0m in \u001b[0;36moutput\u001b[1;34m(self, i)\u001b[0m\n\u001b[0;32m     16\u001b[0m     \u001b[1;32mdef\u001b[0m \u001b[0moutput\u001b[0m\u001b[1;33m(\u001b[0m\u001b[0mself\u001b[0m\u001b[1;33m,\u001b[0m\u001b[0mi\u001b[0m\u001b[1;33m)\u001b[0m\u001b[1;33m:\u001b[0m\u001b[1;31m#sometimes called weight\u001b[0m\u001b[1;33m\u001b[0m\u001b[1;33m\u001b[0m\u001b[0m\n\u001b[0;32m     17\u001b[0m         \u001b[1;31m# print(self.x_test[i],self.x_train)\u001b[0m\u001b[1;33m\u001b[0m\u001b[1;33m\u001b[0m\u001b[1;33m\u001b[0m\u001b[0m\n\u001b[1;32m---> 18\u001b[1;33m         \u001b[0mdistances\u001b[0m\u001b[1;33m=\u001b[0m\u001b[0mnp\u001b[0m\u001b[1;33m.\u001b[0m\u001b[0msqrt\u001b[0m\u001b[1;33m(\u001b[0m\u001b[0mnp\u001b[0m\u001b[1;33m.\u001b[0m\u001b[0msum\u001b[0m\u001b[1;33m(\u001b[0m\u001b[1;33m(\u001b[0m\u001b[0mself\u001b[0m\u001b[1;33m.\u001b[0m\u001b[0mx_test\u001b[0m\u001b[1;33m[\u001b[0m\u001b[0mi\u001b[0m\u001b[1;33m]\u001b[0m\u001b[1;33m-\u001b[0m\u001b[0mself\u001b[0m\u001b[1;33m.\u001b[0m\u001b[0mx_train\u001b[0m\u001b[1;33m)\u001b[0m\u001b[1;33m**\u001b[0m\u001b[1;36m2\u001b[0m\u001b[1;33m,\u001b[0m\u001b[0maxis\u001b[0m\u001b[1;33m=\u001b[0m\u001b[1;36m1\u001b[0m\u001b[1;33m)\u001b[0m\u001b[1;33m)\u001b[0m \u001b[1;31m# euclidean distance\u001b[0m\u001b[1;33m\u001b[0m\u001b[1;33m\u001b[0m\u001b[0m\n\u001b[0m\u001b[0;32m     19\u001b[0m \u001b[1;33m\u001b[0m\u001b[0m\n\u001b[0;32m     20\u001b[0m         \u001b[1;32mreturn\u001b[0m \u001b[0mself\u001b[0m\u001b[1;33m.\u001b[0m\u001b[0mactivation_func\u001b[0m\u001b[1;33m(\u001b[0m\u001b[0mdistances\u001b[0m\u001b[1;33m)\u001b[0m\u001b[1;33m\u001b[0m\u001b[1;33m\u001b[0m\u001b[0m\n",
      "\u001b[1;31mIndexError\u001b[0m: index 55 is out of bounds for axis 0 with size 55"
     ]
    }
   ],
   "source": [
    "y_train_pred=model.predict_train()\n"
   ]
  },
  {
   "cell_type": "code",
   "execution_count": 13,
   "metadata": {},
   "outputs": [
    {
     "name": "stdout",
     "output_type": "stream",
     "text": [
      "RMSE 0.06668388049434412\n",
      "R2 0.9144693534206259\n"
     ]
    }
   ],
   "source": [
    "from sklearn.metrics import mean_squared_error#导入计算误差的函数\n",
    "from sklearn.metrics import r2_score\n",
    "from sklearn.metrics import mean_absolute_error\n",
    "test_r2= r2_score(y_test, y_pred)\n",
    "test_mse = mean_squared_error(y_test, y_pred)\n",
    "test_rmse = np.sqrt(test_mse)\n",
    "print(\"RMSE\",test_rmse)\n",
    "print(\"R2\",test_r2)"
   ]
  },
  {
   "cell_type": "code",
   "execution_count": 23,
   "metadata": {},
   "outputs": [
    {
     "name": "stdout",
     "output_type": "stream",
     "text": [
      "done save to GRNN_data2_0.35_test_performance.csv\n"
     ]
    }
   ],
   "source": [
    "def save_test_data():\n",
    "    data=pd.DataFrame({\n",
    "        \"Ltx\":x_test[:,0],\n",
    "        \"D\":x_test[:,1],\n",
    "        \"MI\":x_test[:,2],\n",
    "        \"y\":y_test,\n",
    "        \"pred\":y_pred,\n",
    "        \"r1\":r1,\n",
    "        \"R2\":test_r2,\n",
    "        \"RMSE\":test_rmse\n",
    "        \n",
    "    })\n",
    "    location=\"./result/test/performance/\"\n",
    "    name=model_name+\"_\"+database_name+\"_\"+str(ratio)+\"_test_performance\"+\".csv\"\n",
    "    data.to_csv(location+name,header=True,mode='w')\n",
    "    print(\"done save to\",name)\n",
    "    return data\n",
    "test_result=save_test_data()"
   ]
  },
  {
   "cell_type": "code",
   "execution_count": 136,
   "metadata": {},
   "outputs": [],
   "source": [
    "data_save=pd.DataFrame({\"ratio\":ratio\n",
    "                        ,\"train\":x_train.shape[0]\n",
    "                        ,\"test\":x_test.shape[0]\n",
    "                        ,\"valid\":x_valid.shape[0]\n",
    "                        ,\"r1\":r1\n",
    "                        ,\"r2\":test_r2\n",
    "                        ,\"RMSE\":test_rmse\n",
    "                       , \"model\":model_name},index=[0])\n",
    "save_loc=\"./result/result.csv\"\n",
    "data_save.to_csv(save_loc,mode=\"a+\",index=False,header=False)\n",
    "# data_save.to_csv(save_loc,mode=\"a+\",index=False)"
   ]
  },
  {
   "cell_type": "code",
   "execution_count": 77,
   "metadata": {},
   "outputs": [
    {
     "data": {
      "image/png": "[encoded data removed]",
      "text/plain": [
       "<Figure size 432x324 with 1 Axes>"
      ]
     },
     "metadata": {
      "needs_background": "light"
     },
     "output_type": "display_data"
    }
   ],
   "source": [
    "x_draw=np.arange(y_pred.shape[0])\n",
    "fig,ax=plt.subplots(1,1,figsize=(6,4.5))\n",
    "ax.tick_params(labelsize=12)\n",
    "ax.plot(x_draw,y_pred,\"r-\",label=\"Pred\")\n",
    "ax.plot(x_draw,y_test,\"b.\",linewidth=5,label=\"True\")\n",
    "ax.set_xlabel(\"No\",fontsize=15)\n",
    "ax.set_ylabel(\"MI\",fontsize=15)\n",
    "ax.set_title(model_name)\n",
    "ax.legend()\n",
    "\n",
    "ax.text(0.05,0.95,s=(\"$R_1$=\"+str(round(r1,4))),fontsize=12,transform=ax.transAxes)\n",
    "ax.text(0.05,0.9,s=(\"$R_2$=\"+str(round(test_r2,4))),fontsize=12,transform=ax.transAxes)\n",
    "\n",
    "\n",
    "fig.savefig(\"./figure/\"+model_name+\"_\"+database_name+\"_\"+str(round(r1,4))+\"_demo.png\",dpi=150,\n",
    "           bbox_inches=\"tight\")"
   ]
  }
 ],
 "metadata": {
  "kernelspec": {
   "display_name": "Python 3",
   "language": "python",
   "name": "python3"
  },
  "language_info": {
   "codemirror_mode": {
    "name": "ipython",
    "version": 3
   },
   "file_extension": ".py",
   "mimetype": "text/x-python",
   "name": "python",
   "nbconvert_exporter": "python",
   "pygments_lexer": "ipython3",
   "version": "3.8.8"
  }
 },
 "nbformat": 4,
 "nbformat_minor": 2
}
